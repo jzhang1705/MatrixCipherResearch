{
 "cells": [
  {
   "cell_type": "code",
   "execution_count": 18,
   "metadata": {},
   "outputs": [],
   "source": [
    "import re\n",
    "def removeNonAlphChars(T):\n",
    "    regex = re.compile('[^a-zA-Z]')\n",
    "    return regex.sub('', T)\n",
    "    \n",
    "def AlphabetMapping(T):\n",
    "    T = removeNonAlphChars(T).lower()\n",
    "    m = []\n",
    "    n = len(T)\n",
    "    for i in range(n):\n",
    "        \n",
    "        m.append(ord(T[i:i+1]) - 97)\n",
    "    return m"
   ]
  },
  {
   "cell_type": "code",
   "execution_count": 19,
   "metadata": {},
   "outputs": [
    {
     "data": {
      "text/plain": [
       "[6, 4, 18, 15, 14, 17, 19, 18, 3, 4, 5, 4, 0, 19, 18, 10, 19]"
      ]
     },
     "execution_count": 19,
     "metadata": {},
     "output_type": "execute_result"
    }
   ],
   "source": [
    "AlphabetMapping(\"G2esports defeat SKT\")"
   ]
  },
  {
   "cell_type": "code",
   "execution_count": 20,
   "metadata": {},
   "outputs": [
    {
     "data": {
      "text/plain": [
       "[9, 25, 7, 0, 13, 6]"
      ]
     },
     "execution_count": 20,
     "metadata": {},
     "output_type": "execute_result"
    }
   ],
   "source": [
    "AlphabetMapping(\"jzhang45\")"
   ]
  },
  {
   "cell_type": "code",
   "execution_count": null,
   "metadata": {},
   "outputs": [],
   "source": []
  }
 ],
 "metadata": {
  "kernelspec": {
   "display_name": "Python 3",
   "language": "python",
   "name": "python3"
  },
  "language_info": {
   "codemirror_mode": {
    "name": "ipython",
    "version": 3
   },
   "file_extension": ".py",
   "mimetype": "text/x-python",
   "name": "python",
   "nbconvert_exporter": "python",
   "pygments_lexer": "ipython3",
   "version": "3.8.3"
  }
 },
 "nbformat": 4,
 "nbformat_minor": 4
}
