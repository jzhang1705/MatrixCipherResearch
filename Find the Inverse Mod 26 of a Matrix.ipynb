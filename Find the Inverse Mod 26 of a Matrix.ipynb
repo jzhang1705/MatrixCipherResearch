{
 "cells": [
  {
   "cell_type": "code",
   "execution_count": 258,
   "metadata": {},
   "outputs": [],
   "source": [
    "def InverseMod26(x):\n",
    "    (d,a,b) = extendedgcd(x,26)\n",
    "    return a\n",
    "\n",
    "def extendedgcd(x,y):\n",
    "    if y == 0:\n",
    "        return(x,1,0)\n",
    "    else:\n",
    "        (d,a,b) = extendedgcd(y,x%y)\n",
    "        return (d,b,a - int((x/y))*b)"
   ]
  },
  {
   "cell_type": "code",
   "execution_count": 259,
   "metadata": {},
   "outputs": [],
   "source": [
    "from numpy import array\n",
    "    \n",
    "def Cofactors(A):\n",
    "    n = len(A)\n",
    "    M = array(A)\n",
    "    subMatrix = array([[0 for x in range(n-1)] for y in range(n-1)])\n",
    "    cofactor = array([[0 for x in range(n)] for y in range(n)])\n",
    "    counter = 0\n",
    "    mi = 0\n",
    "    mj = 0\n",
    "    row = 0\n",
    "    column = 0 \n",
    "    ran = 0\n",
    "    ci = 0\n",
    "    cj = 0\n",
    "    for counter1 in range(0,n):\n",
    "        for counter2 in range(0,n):\n",
    "            for i in range(0,n):\n",
    "                for j in range(0,n):\n",
    "                    if row != i and column != j:\n",
    "                        subMatrix[mi][mj] = M[i][j]\n",
    "                        mj+=1\n",
    "                        ran = 1\n",
    "                if ran == 1:\n",
    "                    mi += 1\n",
    "                    ran = 0\n",
    "                mj = 0\n",
    "            mi = 0\n",
    "            column += 1\n",
    "            cofactor[ci][cj] = (-1)**(counter1 + counter2)*Determinant(subMatrix)\n",
    "            cj += 1\n",
    "        row += 1\n",
    "        column = 0\n",
    "        ci += 1\n",
    "        cj = 0\n",
    "    return cofactor\n",
    "\n",
    "def Determinant(A):\n",
    "    n = len(A)\n",
    "    if n == 2:\n",
    "        return A[0][0]*A[1][1] - A[0][1]*A[1][0]\n",
    "    else:\n",
    "        M = array(A)\n",
    "        subMatrix = array([[0 for x in range(n-1)] for y in range(n-1)])\n",
    "        counter = 0\n",
    "        mi = 0\n",
    "        mj = 0\n",
    "        column = 0\n",
    "        determinant = 0\n",
    "        for counter in range(0,n):\n",
    "            number = A[0][counter]\n",
    "            for i in range(1,n):\n",
    "                for j in range(0,n):\n",
    "                    if column != j:\n",
    "                        subMatrix[mi][mj] = M[i][j]\n",
    "                        mj+=1\n",
    "                mi += 1\n",
    "                mj = 0\n",
    "            mi = 0\n",
    "            column += 1\n",
    "            determinant += number*(-1)**(counter)*Determinant(subMatrix.copy())\n",
    "    return determinant   "
   ]
  },
  {
   "cell_type": "code",
   "execution_count": 260,
   "metadata": {},
   "outputs": [],
   "source": [
    "def MatrixInverseMod26(A):\n",
    "    mod26Det = InverseMod26(Determinant(A))\n",
    "    Adjugate = np.transpose(Cofactors(A))\n",
    "    n = len(A)\n",
    "    Inverse = Adjugate * mod26Det\n",
    "    for i in range(0,n):\n",
    "        for j in range(0,n):\n",
    "            Inverse[i][j] = Inverse[i][j]%26\n",
    "    return Inverse"
   ]
  },
  {
   "cell_type": "code",
   "execution_count": 264,
   "metadata": {},
   "outputs": [
    {
     "data": {
      "text/plain": [
       "372"
      ]
     },
     "execution_count": 264,
     "metadata": {},
     "output_type": "execute_result"
    }
   ],
   "source": [
    "Determinant([[1, 2, -2,3, 6],\n",
    "[4, 1, 6, 4, 9],\n",
    "[4, 3, 0, 5, 10],\n",
    "[1,2,3,4, 11],\n",
    "[2,4,6,8,10]])"
   ]
  },
  {
   "cell_type": "code",
   "execution_count": 266,
   "metadata": {},
   "outputs": [
    {
     "data": {
      "text/plain": [
       "array([[12, 16, 20, 20, 17],\n",
       "       [ 0, 14,  6, 14,  5],\n",
       "       [14, 24,  8, 16, 12],\n",
       "       [ 6, 10, 12, 20, 21],\n",
       "       [ 0,  0,  0, 22, 15]])"
      ]
     },
     "execution_count": 266,
     "metadata": {},
     "output_type": "execute_result"
    }
   ],
   "source": [
    "MatrixInverseMod26([[1, 2, -2, 3, 6],\n",
    "[4, 1, 6, 4, 9],\n",
    "[4, 3, 0, 5, 10],\n",
    "[1,2,3,4, 11],\n",
    "[2,4,6,8,10]])"
   ]
  },
  {
   "cell_type": "code",
   "execution_count": 153,
   "metadata": {
    "scrolled": true
   },
   "outputs": [
    {
     "data": {
      "text/plain": [
       "array([[ -363,  -726,  -363],\n",
       "       [ -726, -1452,  -726],\n",
       "       [ -363,  -726,  -363]])"
      ]
     },
     "execution_count": 153,
     "metadata": {},
     "output_type": "execute_result"
    }
   ],
   "source": [
    "from numpy import array\n",
    "import numpy as np\n",
    "data = array([[11, 22, 33],\n",
    "[44, 55, 66],\n",
    "[77, 88, 99]])\n",
    "# separate data\n",
    "subMatrix = array([[0 for x in range(2)] for y in range(2)])\n",
    "Minor = array([[0 for x in range(3)] for y in range(3)])\n",
    "counter = 0\n",
    "mi = 0\n",
    "mj = 0\n",
    "row = 0\n",
    "column = 0 \n",
    "ran = 0\n",
    "minori = 0\n",
    "minorj = 0\n",
    "for counter1 in range(0,3):\n",
    "    for counter2 in range(0,3):\n",
    "        for i in range(0,3):\n",
    "            for j in range(0,3):\n",
    "                if row != i and column != j:\n",
    "                    subMatrix[mi][mj] = data[i][j]\n",
    "                    mj+=1\n",
    "                    ran = 1\n",
    "            if ran == 1:\n",
    "                mi += 1\n",
    "                ran = 0\n",
    "            mj = 0\n",
    "        mi = 0\n",
    "        column += 1\n",
    "        Minor[minori][minorj] = Determinant(subMatrix)\n",
    "        minorj += 1\n",
    "    row += 1\n",
    "    column = 0\n",
    "    minori += 1\n",
    "    minorj = 0\n",
    "Minor    "
   ]
  },
  {
   "cell_type": "code",
   "execution_count": null,
   "metadata": {},
   "outputs": [],
   "source": []
  },
  {
   "cell_type": "code",
   "execution_count": null,
   "metadata": {},
   "outputs": [],
   "source": []
  }
 ],
 "metadata": {
  "kernelspec": {
   "display_name": "Python 3",
   "language": "python",
   "name": "python3"
  },
  "language_info": {
   "codemirror_mode": {
    "name": "ipython",
    "version": 3
   },
   "file_extension": ".py",
   "mimetype": "text/x-python",
   "name": "python",
   "nbconvert_exporter": "python",
   "pygments_lexer": "ipython3",
   "version": "3.8.3"
  }
 },
 "nbformat": 4,
 "nbformat_minor": 4
}
